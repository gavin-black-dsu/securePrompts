{
 "cells": [
  {
   "cell_type": "code",
   "execution_count": 1,
   "id": "05f937bb-a56d-4144-8df7-a7d75e450ba1",
   "metadata": {},
   "outputs": [
    {
     "name": "stderr",
     "output_type": "stream",
     "text": [
      "/home/g/miniconda3/envs/tf-3.9/lib/python3.9/site-packages/scipy/__init__.py:146: UserWarning: A NumPy version >=1.16.5 and <1.23.0 is required for this version of SciPy (detected version 1.23.2\n",
      "  warnings.warn(f\"A NumPy version >={np_minversion} and <{np_maxversion}\"\n"
     ]
    }
   ],
   "source": [
    "import pandas as pd\n",
    "import numpy as np\n",
    "import matplotlib.pyplot as plt\n",
    "import seaborn as sns "
   ]
  },
  {
   "cell_type": "code",
   "execution_count": 2,
   "id": "24d23788-396c-41a2-aa70-3a35d36fe63b",
   "metadata": {},
   "outputs": [],
   "source": [
    "# !! TODO: Currently scaling stddev due to low sampling, needs removed\n",
    "\n",
    "Args = type('Args', (object,), {})\n",
    "args = Args()\n",
    "\n",
    "args.files = [\"results/test_3_trials_1.0_tau.csv\", \"results/test_3_trials_0.8_tau.csv\", \"results/test_3_trials_0.2_tau.csv\"]\n",
    "args.tauModelOrder = [(\"1.0\",\"gpt-3.5-turbo\"),  (\"0.8\", \"gpt-3.5-turbo\"), (\"0.2\", \"gpt-3.5-turbo\")] # (\"0.0\", \"gpt-4\")\n",
    "args.prompts = \"prompts/security.list\" # Patterns\n",
    "args.specs = \"prompts/specifications.list\" # CWEs\n",
    "args.tau = \"1.0\" # Which tau to use for table\n",
    "args.model = \"gpt-3.5-turbo\"\n",
    "args.barWidth = 0.25\n",
    "args.figSize = (12, 3)\n",
    "args.tauMeasure = \"Secure\"\n",
    "args.outfile = \"secureGraph.png\""
   ]
  },
  {
   "cell_type": "code",
   "execution_count": 3,
   "id": "772b9e73-0ef9-460d-81fb-c4388ac8cf05",
   "metadata": {},
   "outputs": [],
   "source": [
    "resultsHeaders = [(\"Working\", \"W\"), (\"Secure\", \"S\"), (\"Fully Functional\", \"F\"), (\"Found CWE\", \"C\")]\n"
   ]
  },
  {
   "cell_type": "code",
   "execution_count": 4,
   "id": "e53f4329-64b4-4d00-a1d5-3b7c1bc18d85",
   "metadata": {},
   "outputs": [],
   "source": [
    "with open(args.prompts, \"rt\") as f: prompts = [x for x in f.read().splitlines() if not x.startswith(\"#\")]\n",
    "with open(args.specs, \"rt\") as f: specs = [x for x in f.read().splitlines() if not x.startswith(\"#\")]\n"
   ]
  },
  {
   "cell_type": "code",
   "execution_count": 5,
   "id": "9029b3f1-be2c-4ada-bfd3-98f870895505",
   "metadata": {},
   "outputs": [],
   "source": [
    "dfs = []\n",
    "for f in args.files: dfs.append(pd.read_csv(f))\n",
    "\n",
    "df = pd.concat(dfs, ignore_index=True)\n"
   ]
  },
  {
   "cell_type": "code",
   "execution_count": 6,
   "id": "bedf83dd-7a19-4784-bdf7-a02475c458fa",
   "metadata": {},
   "outputs": [],
   "source": [
    "\n",
    "\n",
    "# Unique Model, Tau, Id, CWE\n",
    "values = dict()\n",
    "\n",
    "for i, x in df.iterrows():\n",
    "    hsh = (x['Model'], x['Temperature'], x['Prompt ID'], x['CWE ID'])\n",
    "    if hsh not in values: \n",
    "        values[hsh] = dict()\n",
    "        for h in resultsHeaders:\n",
    "            h = h[0]\n",
    "            values[hsh][h] = 0\n",
    "            values[hsh][h + 'Count'] = 0\n",
    "    \n",
    "    for h in resultsHeaders:\n",
    "        h = h[0]\n",
    "        values[hsh][h + 'Count'] += 1\n",
    "        if x[h]: values[hsh][h] +=1 \n",
    "        "
   ]
  },
  {
   "cell_type": "code",
   "execution_count": 7,
   "id": "d3ba6251-863d-4ec2-b185-a632ece8d761",
   "metadata": {},
   "outputs": [],
   "source": [
    "tableLines = []\n",
    "begin = \"\\\\begin{tabular}{@{}r\"\n",
    "topHeader = f\"$\\\\tau={args.tau}$ \"\n",
    "for x in specs:\n",
    "    begin += 'r'\n",
    "    topHeader += f\"& {x} \"\n",
    "    \n",
    "begin += \"r@{}} \\\\toprule\"\n",
    "topHeader += \" & Total \\\\\\\\ \\\\hline\"\n",
    "\n",
    "tableLines.append(begin)\n",
    "tableLines.append(topHeader)"
   ]
  },
  {
   "cell_type": "code",
   "execution_count": 8,
   "id": "0464461d-c80a-455b-9112-4a1faba22b6c",
   "metadata": {},
   "outputs": [],
   "source": [
    "# Step through everything hierarchically \n",
    "for prompt in prompts:\n",
    "    tableLines.append(f\"${prompt}$ \\\\\\\\\")\n",
    "    for (x,y) in resultsHeaders:\n",
    "        line = f\"{y} & \"\n",
    "        totalList = []\n",
    "        for spec in specs:\n",
    "            v = values[(args.model, float(args.tau), prompt, spec)]\n",
    "            count = v[x + \"Count\"] # To percentage\n",
    "            correct = v[x]\n",
    "            \n",
    "            # List to calc stats\n",
    "            sList = [100]*correct + [0]*(count - correct)            \n",
    "            avg = int(np.average(sList))\n",
    "            std = int(np.std(sList))\n",
    "            # Append to total\n",
    "            totalList += sList\n",
    "            \n",
    "            line += f\"${avg} \\pm {std}$ & \"\n",
    "        \n",
    "        # Calculate row totals\n",
    "        tAvg = int(np.average(totalList))\n",
    "        tStd = int(np.std(totalList))\n",
    "        line += f\"${tAvg} \\pm {tStd}$ \\\\\\\\\"\n",
    "        tableLines.append(line)\n",
    "    \n"
   ]
  },
  {
   "cell_type": "code",
   "execution_count": 9,
   "id": "923f4c54-2bb5-4e49-8d65-a3ff0a5ee0f3",
   "metadata": {
    "scrolled": true,
    "tags": []
   },
   "outputs": [
    {
     "name": "stdout",
     "output_type": "stream",
     "text": [
      "\\begin{tabular}{@{}rrrr@{}} \\toprule\n",
      "$\\tau=1.0$ & CWE-190 & CWE-502  & Total \\\\ \\hline\n",
      "$None$ \\\\\n",
      "W & $100 \\pm 0$ & $66 \\pm 47$ & $83 \\pm 37$ \\\\\n",
      "S & $0 \\pm 0$ & $33 \\pm 47$ & $16 \\pm 37$ \\\\\n",
      "F & $100 \\pm 0$ & $66 \\pm 47$ & $83 \\pm 37$ \\\\\n",
      "C & $0 \\pm 0$ & $0 \\pm 0$ & $0 \\pm 0$ \\\\\n",
      "$Context_1$ \\\\\n",
      "W & $100 \\pm 0$ & $33 \\pm 47$ & $66 \\pm 47$ \\\\\n",
      "S & $0 \\pm 0$ & $66 \\pm 47$ & $33 \\pm 47$ \\\\\n",
      "F & $100 \\pm 0$ & $33 \\pm 47$ & $66 \\pm 47$ \\\\\n",
      "C & $0 \\pm 0$ & $0 \\pm 0$ & $0 \\pm 0$ \\\\\n",
      "$Context_2$ \\\\\n",
      "W & $100 \\pm 0$ & $66 \\pm 47$ & $83 \\pm 37$ \\\\\n",
      "S & $0 \\pm 0$ & $33 \\pm 47$ & $16 \\pm 37$ \\\\\n",
      "F & $100 \\pm 0$ & $66 \\pm 47$ & $83 \\pm 37$ \\\\\n",
      "C & $0 \\pm 0$ & $0 \\pm 0$ & $0 \\pm 0$ \\\\\n",
      "$Context_A$ \\\\\n",
      "W & $100 \\pm 0$ & $66 \\pm 47$ & $83 \\pm 37$ \\\\\n",
      "S & $0 \\pm 0$ & $33 \\pm 47$ & $16 \\pm 37$ \\\\\n",
      "F & $100 \\pm 0$ & $66 \\pm 47$ & $83 \\pm 37$ \\\\\n",
      "C & $0 \\pm 0$ & $0 \\pm 0$ & $0 \\pm 0$ \\\\\n",
      "$Role_1$ \\\\\n",
      "W & $100 \\pm 0$ & $66 \\pm 47$ & $83 \\pm 37$ \\\\\n",
      "S & $0 \\pm 0$ & $33 \\pm 47$ & $16 \\pm 37$ \\\\\n",
      "F & $100 \\pm 0$ & $66 \\pm 47$ & $83 \\pm 37$ \\\\\n",
      "C & $0 \\pm 0$ & $0 \\pm 0$ & $0 \\pm 0$ \\\\\n",
      "$Role_2$ \\\\\n",
      "W & $100 \\pm 0$ & $66 \\pm 47$ & $83 \\pm 37$ \\\\\n",
      "S & $0 \\pm 0$ & $33 \\pm 47$ & $16 \\pm 37$ \\\\\n",
      "F & $100 \\pm 0$ & $66 \\pm 47$ & $83 \\pm 37$ \\\\\n",
      "C & $0 \\pm 0$ & $0 \\pm 0$ & $0 \\pm 0$ \\\\\n",
      "$Role_A$ \\\\\n",
      "W & $100 \\pm 0$ & $66 \\pm 47$ & $83 \\pm 37$ \\\\\n",
      "S & $0 \\pm 0$ & $33 \\pm 47$ & $16 \\pm 37$ \\\\\n",
      "F & $100 \\pm 0$ & $66 \\pm 47$ & $83 \\pm 37$ \\\\\n",
      "C & $0 \\pm 0$ & $0 \\pm 0$ & $0 \\pm 0$ \\\\\n",
      "$Id_1$ \\\\\n",
      "W & $100 \\pm 0$ & $33 \\pm 47$ & $66 \\pm 47$ \\\\\n",
      "S & $0 \\pm 0$ & $66 \\pm 47$ & $33 \\pm 47$ \\\\\n",
      "F & $100 \\pm 0$ & $33 \\pm 47$ & $66 \\pm 47$ \\\\\n",
      "C & $33 \\pm 47$ & $100 \\pm 0$ & $66 \\pm 47$ \\\\\n",
      "$Id_2$ \\\\\n",
      "W & $100 \\pm 0$ & $33 \\pm 47$ & $66 \\pm 47$ \\\\\n",
      "S & $0 \\pm 0$ & $66 \\pm 47$ & $33 \\pm 47$ \\\\\n",
      "F & $100 \\pm 0$ & $33 \\pm 47$ & $66 \\pm 47$ \\\\\n",
      "C & $0 \\pm 0$ & $0 \\pm 0$ & $0 \\pm 0$ \\\\\n",
      "$Id_A$ \\\\\n",
      "W & $100 \\pm 0$ & $66 \\pm 47$ & $83 \\pm 37$ \\\\\n",
      "S & $0 \\pm 0$ & $33 \\pm 47$ & $16 \\pm 37$ \\\\\n",
      "F & $100 \\pm 0$ & $66 \\pm 47$ & $83 \\pm 37$ \\\\\n",
      "C & $0 \\pm 0$ & $66 \\pm 47$ & $33 \\pm 47$ \\\\\n",
      "$All$ \\\\\n",
      "W & $100 \\pm 0$ & $66 \\pm 47$ & $83 \\pm 37$ \\\\\n",
      "S & $0 \\pm 0$ & $33 \\pm 47$ & $16 \\pm 37$ \\\\\n",
      "F & $100 \\pm 0$ & $66 \\pm 47$ & $83 \\pm 37$ \\\\\n",
      "C & $0 \\pm 0$ & $66 \\pm 47$ & $33 \\pm 47$ \\\\\n"
     ]
    }
   ],
   "source": [
    "for x in tableLines: print(x) # LaTeX that can be copy-pasted"
   ]
  },
  {
   "cell_type": "code",
   "execution_count": 10,
   "id": "5f9406a2-319f-4eee-b4e9-0df0663d8045",
   "metadata": {},
   "outputs": [],
   "source": [
    "# Step through by prompt and tau for graph\n",
    "tau_avgs = {}\n",
    "tau_stds = {}\n",
    "sections = []\n",
    "\n",
    "for (tau, model) in args.tauModelOrder: \n",
    "    promptAvgs = []\n",
    "    promptStds = []\n",
    "    \n",
    "    if model.startswith(\"gpt-3\"): m = \"GPT-3\"\n",
    "    rowName = fr'GPT-3 ($\\tau={tau}$)'\n",
    "    \n",
    "    for prompt in prompts:\n",
    "        correct = 0\n",
    "        count = 0\n",
    "        for spec in specs:\n",
    "            v = values[(model, float(tau), prompt, spec)]\n",
    "            for (key,_) in resultsHeaders: \n",
    "                if key != args.tauMeasure: continue # Only take one key\n",
    "                correct += v[key]\n",
    "                count += v[key + 'Count']\n",
    "        \n",
    "        sList = [100]*correct + [0]*(count - correct)     \n",
    "        avg = np.average(sList)\n",
    "        if avg < 1: avg = 1 # Put in a small amount so it's visible on graph\n",
    "        promptAvgs.append(avg)\n",
    "        promptStds.append(np.std(sList)/10) # TODO: Remove the scaling\n",
    "    tau_avgs[rowName] = promptAvgs.copy()\n",
    "    tau_stds[rowName] = promptStds.copy()"
   ]
  },
  {
   "cell_type": "code",
   "execution_count": 11,
   "id": "37f3d9ab-b900-411f-afce-2983c3292a15",
   "metadata": {},
   "outputs": [
    {
     "data": {
      "image/png": "[encoded data removed]",
      "text/plain": [
       "<Figure size 864x216 with 1 Axes>"
      ]
     },
     "metadata": {
      "needs_background": "light"
     },
     "output_type": "display_data"
    }
   ],
   "source": [
    "\n",
    "\n",
    "x = np.arange(len(prompts))  # the label locations\n",
    "multiplier = 0\n",
    "fig, ax = plt.subplots(layout='constrained', figsize = args.figSize)\n",
    "\n",
    "for attribute, avg in tau_avgs.items():\n",
    "    offset = args.barWidth * multiplier\n",
    "    stddev = tau_stds[attribute]\n",
    "    rects = ax.bar(x + offset, avg, args.barWidth, yerr=stddev, label=attribute)\n",
    "    #ax.bar_label(rects, padding=3)\n",
    "    multiplier += 1\n",
    "\n",
    "# Add some text for labels, title and custom x-axis tick labels, etc.\n",
    "ax.set_ylabel('Accuracy (%)')\n",
    "ax.set_title(r'Temperature($\\tau$) Comparisons for Patched CWE')\n",
    "ax.set_xticks(x + args.barWidth, prompts)\n",
    "ax.legend(loc='upper left')\n",
    "ax.set_ylim(0, 60)\n",
    "\n",
    "plt.savefig(args.outfile)\n",
    "plt.show()"
   ]
  },
  {
   "cell_type": "code",
   "execution_count": null,
   "id": "583d1f38-5b51-489f-8efb-50cbf17cecdf",
   "metadata": {},
   "outputs": [],
   "source": []
  }
 ],
 "metadata": {
  "kernelspec": {
   "display_name": "tf-3.9",
   "language": "python",
   "name": "tf-3.9"
  },
  "language_info": {
   "codemirror_mode": {
    "name": "ipython",
    "version": 3
   },
   "file_extension": ".py",
   "mimetype": "text/x-python",
   "name": "python",
   "nbconvert_exporter": "python",
   "pygments_lexer": "ipython3",
   "version": "3.9.12"
  }
 },
 "nbformat": 4,
 "nbformat_minor": 5
}
