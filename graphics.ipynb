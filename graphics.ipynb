{
 "cells": [
  {
   "cell_type": "code",
   "execution_count": null,
   "id": "05f937bb-a56d-4144-8df7-a7d75e450ba1",
   "metadata": {},
   "outputs": [],
   "source": [
    "import pandas as pd\n",
    "import numpy as np"
   ]
  },
  {
   "cell_type": "code",
   "execution_count": null,
   "id": "24d23788-396c-41a2-aa70-3a35d36fe63b",
   "metadata": {},
   "outputs": [],
   "source": [
    "Args = type('Args', (object,), {})\n",
    "args = Args()\n",
    "\n",
    "args.file = \"secondRun.csv\"\n",
    "args.prompts = \"prompts/security.list\" # Patterns\n",
    "args.specs = \"prompts/specifications.list\" # CWEs\n",
    "args.tau = \"1.0\"\n",
    "args.model = \"gpt-3.5-turbo\""
   ]
  },
  {
   "cell_type": "code",
   "execution_count": null,
   "id": "772b9e73-0ef9-460d-81fb-c4388ac8cf05",
   "metadata": {},
   "outputs": [],
   "source": [
    "resultsHeaders = [(\"Working\", \"W\"), (\"Secure\", \"S\"), (\"Fully Functional\", \"F\"), (\"Found CWE\", \"C\")]\n"
   ]
  },
  {
   "cell_type": "code",
   "execution_count": null,
   "id": "e53f4329-64b4-4d00-a1d5-3b7c1bc18d85",
   "metadata": {},
   "outputs": [],
   "source": [
    "with open(args.prompts, \"rt\") as f: prompts = [x for x in f.read().splitlines() if not x.startswith(\"#\")]\n",
    "with open(args.specs, \"rt\") as f: specs = [x for x in f.read().splitlines() if not x.startswith(\"#\")]\n",
    "specs\n"
   ]
  },
  {
   "cell_type": "code",
   "execution_count": null,
   "id": "bedf83dd-7a19-4784-bdf7-a02475c458fa",
   "metadata": {},
   "outputs": [],
   "source": [
    "df = pd.read_csv(args.file)\n",
    "\n",
    "# Unique Model, Tau, Id, CWE\n",
    "values = dict()\n",
    "\n",
    "for i, x in df.iterrows():\n",
    "    hsh = (x['Model'], x['Temperature'], x['Prompt ID'], x['CWE ID'])\n",
    "    if hsh not in values: \n",
    "        values[hsh] = dict()\n",
    "        for h in resultsHeaders:\n",
    "            h = h[0]\n",
    "            values[hsh][h] = 0\n",
    "            values[hsh][h + 'Count'] = 0\n",
    "    \n",
    "    for h in resultsHeaders:\n",
    "        h = h[0]\n",
    "        values[hsh][h + 'Count'] += 1\n",
    "        if x[h]: values[hsh][h] +=1 \n",
    "\n",
    "values"
   ]
  },
  {
   "cell_type": "code",
   "execution_count": null,
   "id": "d3ba6251-863d-4ec2-b185-a632ece8d761",
   "metadata": {},
   "outputs": [],
   "source": [
    "tableLines = []\n",
    "begin = \"\\\\begin{tabular}{@{}r\"\n",
    "topHeader = f\"$\\\\tau={args.tau}$ \"\n",
    "for x in specs:\n",
    "    begin += 'r'\n",
    "    topHeader += f\"& {x} \"\n",
    "    \n",
    "begin += \"r@{}} \\\\toprule\"\n",
    "topHeader += \" & Total \\\\\\\\ \\\\hline\"\n",
    "\n",
    "tableLines.append(begin)\n",
    "tableLines.append(topHeader)"
   ]
  },
  {
   "cell_type": "code",
   "execution_count": null,
   "id": "0464461d-c80a-455b-9112-4a1faba22b6c",
   "metadata": {},
   "outputs": [],
   "source": [
    "# Step through everything hierarchically \n",
    "for prompt in prompts:\n",
    "    tableLines.append(f\"${prompt}$ \\\\\\\\\")\n",
    "    for (x,y) in resultsHeaders:\n",
    "        line = f\"{y} & \"\n",
    "        totalList = []\n",
    "        for spec in specs:\n",
    "            v = values[(args.model, float(args.tau), prompt, spec)]\n",
    "            count = v[x + \"Count\"] # To percentage\n",
    "            correct = v[x]\n",
    "            \n",
    "            # List to calc stats\n",
    "            sList = [100]*correct + [0]*(count - correct)            \n",
    "            avg = int(np.average(sList))\n",
    "            std = int(np.std(sList))\n",
    "            # Append to total\n",
    "            totalList += sList\n",
    "            \n",
    "            line += f\"${avg} \\pm {std}$ & \"\n",
    "        \n",
    "        # Calculate row totals\n",
    "        tAvg = int(np.average(totalList))\n",
    "        tStd = int(np.std(totalList))\n",
    "        line += f\"${tAvg} \\pm {tStd}$ \\\\\\\\\"\n",
    "        tableLines.append(line)\n",
    "    \n"
   ]
  },
  {
   "cell_type": "code",
   "execution_count": null,
   "id": "923f4c54-2bb5-4e49-8d65-a3ff0a5ee0f3",
   "metadata": {},
   "outputs": [],
   "source": [
    "for x in tableLines: print(x)"
   ]
  },
  {
   "cell_type": "code",
   "execution_count": null,
   "id": "772f75a9-3057-46aa-b58e-ad7dea01d561",
   "metadata": {},
   "outputs": [],
   "source": [
    "values"
   ]
  }
 ],
 "metadata": {
  "kernelspec": {
   "display_name": "tf-3.9",
   "language": "python",
   "name": "tf-3.9"
  },
  "language_info": {
   "codemirror_mode": {
    "name": "ipython",
    "version": 3
   },
   "file_extension": ".py",
   "mimetype": "text/x-python",
   "name": "python",
   "nbconvert_exporter": "python",
   "pygments_lexer": "ipython3",
   "version": "3.9.12"
  }
 },
 "nbformat": 4,
 "nbformat_minor": 5
}
